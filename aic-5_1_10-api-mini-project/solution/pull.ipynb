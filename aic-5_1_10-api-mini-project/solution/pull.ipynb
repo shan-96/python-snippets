{
 "cells": [
  {
   "cell_type": "code",
   "execution_count": 37,
   "metadata": {
    "collapsed": true
   },
   "outputs": [],
   "source": [
    "import requests\n",
    "import pandas as pd"
   ]
  },
  {
   "cell_type": "code",
   "execution_count": 38,
   "metadata": {
    "collapsed": true
   },
   "outputs": [],
   "source": [
    "API_KEY = 'fFCtYXq6v4GnK1X7RNVo'\n",
    "STOCK = 'AFX_X'\n",
    "EXCHANGE = 'FSE'\n",
    "URL = \"https://www.quandl.com/api/v3/datasets/\" + EXCHANGE + \"/\" + STOCK + \"?start_date=2017-01-01&end_date=2017-12\" \\\n",
    "                                                                           \"-31&api_key=\" + API_KEY"
   ]
  },
  {
   "cell_type": "code",
   "execution_count": 39,
   "metadata": {
    "collapsed": true
   },
   "outputs": [],
   "source": [
    "##These are your tasks for this mini project:\n",
    "\n",
    "##Collect data from the Franfurt Stock Exchange, for the ticker AFX_X, for the whole year 2017.\n",
    "##Convert the returned JSON object into a Python dictionary.\n",
    "##Calculate what the highest and lowest opening prices were for the stock in this period.\n",
    "##What was the largest change in any one day (based on High and Low price)?\n",
    "##What was the largest change between any two days (based on Closing Price)?\n",
    "##What was the average daily trading volume during this year?\n",
    "##(Optional) What was the median trading volume during this year."
   ]
  },
  {
   "cell_type": "code",
   "execution_count": 40,
   "metadata": {},
   "outputs": [],
   "source": [
    "response = requests.get(URL)"
   ]
  },
  {
   "cell_type": "code",
   "execution_count": 41,
   "metadata": {
    "collapsed": true
   },
   "outputs": [],
   "source": [
    "my_dict = response.json()\n",
    "column_names = my_dict['dataset']['column_names']\n",
    "data_points = my_dict['dataset']['data']\n",
    "my_frame = pd.DataFrame(data_points,columns=column_names)"
   ]
  },
  {
   "cell_type": "code",
   "execution_count": 49,
   "metadata": {},
   "outputs": [],
   "source": [
    "highest_open_price = my_frame.loc[my_frame['Open'] == my_frame['Open'].max()]"
   ]
  },
  {
   "cell_type": "code",
   "execution_count": null,
   "metadata": {
    "collapsed": true
   },
   "outputs": [],
   "source": [
    "lowest_open_price = my_frame.loc[my_frame['Open'] == my_frame['Open'].min()]"
   ]
  },
  {
   "cell_type": "code",
   "execution_count": 51,
   "metadata": {},
   "outputs": [
    {
     "data": {
      "text/html": [
       "<div>\n",
       "<style>\n",
       "    .dataframe thead tr:only-child th {\n",
       "        text-align: right;\n",
       "    }\n",
       "\n",
       "    .dataframe thead th {\n",
       "        text-align: left;\n",
       "    }\n",
       "\n",
       "    .dataframe tbody tr th {\n",
       "        vertical-align: top;\n",
       "    }\n",
       "</style>\n",
       "<table border=\"1\" class=\"dataframe\">\n",
       "  <thead>\n",
       "    <tr style=\"text-align: right;\">\n",
       "      <th></th>\n",
       "      <th>Date</th>\n",
       "      <th>Open</th>\n",
       "      <th>High</th>\n",
       "      <th>Low</th>\n",
       "      <th>Close</th>\n",
       "      <th>Change</th>\n",
       "      <th>Traded Volume</th>\n",
       "      <th>Turnover</th>\n",
       "      <th>Last Price of the Day</th>\n",
       "      <th>Daily Traded Units</th>\n",
       "      <th>Daily Turnover</th>\n",
       "      <th>Delta</th>\n",
       "    </tr>\n",
       "  </thead>\n",
       "  <tbody>\n",
       "    <tr>\n",
       "      <th>161</th>\n",
       "      <td>2017-05-11</td>\n",
       "      <td>43.4</td>\n",
       "      <td>46.06</td>\n",
       "      <td>43.25</td>\n",
       "      <td>45.0</td>\n",
       "      <td>NaN</td>\n",
       "      <td>189125.0</td>\n",
       "      <td>8496322.0</td>\n",
       "      <td>None</td>\n",
       "      <td>None</td>\n",
       "      <td>None</td>\n",
       "      <td>2.81</td>\n",
       "    </tr>\n",
       "  </tbody>\n",
       "</table>\n",
       "</div>"
      ],
      "text/plain": [
       "           Date  Open   High    Low  Close  Change  Traded Volume   Turnover  \\\n",
       "161  2017-05-11  43.4  46.06  43.25   45.0     NaN       189125.0  8496322.0   \n",
       "\n",
       "    Last Price of the Day Daily Traded Units Daily Turnover  Delta  \n",
       "161                  None               None           None   2.81  "
      ]
     },
     "execution_count": 51,
     "metadata": {},
     "output_type": "execute_result"
    }
   ],
   "source": [
    "my_frame['Shock'] = abs(my_frame.High - my_frame.Low)\n",
    "largest_day_change = my_frame.loc[my_frame['Shock'] == my_frame['Shock'].max()]"
   ]
  },
  {
   "cell_type": "code",
   "execution_count": null,
   "metadata": {
    "collapsed": true
   },
   "outputs": [],
   "source": [
    "my_frame.drop(columns='Shock')"
   ]
  },
  {
   "cell_type": "code",
   "execution_count": 53,
   "metadata": {},
   "outputs": [
    {
     "name": "stdout",
     "output_type": "stream",
     "text": [
      "2.559999999999995\n"
     ]
    }
   ],
   "source": [
    "delta = -1.0\n",
    "prev = -1.0\n",
    "for row in my_frame.iterrows():\n",
    "    close = row[1]['Close']\n",
    "    if prev == -1.0:\n",
    "        prev = close\n",
    "        continue\n",
    "    if abs(prev - close) >= delta:\n",
    "        delta = abs(prev - close)\n",
    "\n",
    "    prev = close\n",
    "\n",
    "print(delta)"
   ]
  },
  {
   "cell_type": "code",
   "execution_count": 55,
   "metadata": {},
   "outputs": [
    {
     "name": "stdout",
     "output_type": "stream",
     "text": [
      "89124.33725490196\n"
     ]
    }
   ],
   "source": [
    "average_trade_vol = my_frame['Traded Volume'].mean()\n",
    "print(average_trade_vol)"
   ]
  },
  {
   "cell_type": "code",
   "execution_count": 57,
   "metadata": {},
   "outputs": [
    {
     "name": "stdout",
     "output_type": "stream",
     "text": [
      "76286.0\n"
     ]
    }
   ],
   "source": [
    "median_trade_vol = my_frame['Traded Volume'].median()\n",
    "print(median_trade_vol)"
   ]
  },
  {
   "cell_type": "code",
   "execution_count": null,
   "metadata": {
    "collapsed": true
   },
   "outputs": [],
   "source": [
    "sortedLst = sorted(my_frame['Traded Volume'])\n",
    "lstLen = len(my_frame['Traded Volume'])\n",
    "index = (lstLen - 1) // 2\n",
    "\n",
    "if lstLen % 2:\n",
    "    median = sortedLst[index]\n",
    "else:\n",
    "    median = (sortedLst[index] + sortedLst[index + 1]) / 2.0\n",
    "\n",
    "print(median)"
   ]
  }
 ],
 "metadata": {
  "kernelspec": {
   "display_name": "Python 3",
   "language": "python",
   "name": "python3"
  },
  "language_info": {
   "codemirror_mode": {
    "name": "ipython",
    "version": 3
   },
   "file_extension": ".py",
   "mimetype": "text/x-python",
   "name": "python",
   "nbconvert_exporter": "python",
   "pygments_lexer": "ipython3",
   "version": "3.6.2"
  }
 },
 "nbformat": 4,
 "nbformat_minor": 2
}
